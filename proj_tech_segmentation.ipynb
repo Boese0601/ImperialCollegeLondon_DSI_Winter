{
 "cells": [
  {
   "cell_type": "markdown",
   "metadata": {},
   "source": [
    "# CNN-based Brain Tumour Segmentation Network\n",
    "## Import packages\n",
    "Please make sure you have all the required packages installed. If GPU is available, but you want to use CPU to train your model, make sure you add \" os.environ['CUDA_VISIBLE_DEVICES'] = '-1' \" before \"from keras.preprocessing.image import ImageDataGenerator\""
   ]
  },
  {
   "cell_type": "code",
   "execution_count": 1,
   "metadata": {},
   "outputs": [],
   "source": [
    "import numpy as np \n",
    "from tqdm import tqdm\n",
    "import os\n",
    "import random\n",
    "import matplotlib.pyplot as plt\n",
    "from sklearn.metrics import accuracy_score\n",
    "import shutil\n",
    "import tensorflow as tf\n",
    "import tensorflow.keras.backend as K\n",
    "\n",
    "from tensorflow.keras import layers\n",
    "from tensorflow.keras.layers import *\n",
    "from tensorflow.keras.models import *\n",
    "from tensorflow.keras.optimizers import Adam\n",
    "from tensorflow.keras.models import load_model\n",
    "from tensorflow.keras.callbacks import EarlyStopping\n",
    "from tensorflow.compat.v1 import ConfigProto\n",
    "from tensorflow.compat.v1 import InteractiveSession\n",
    "\n",
    "config = ConfigProto()\n",
    "config.gpu_options.allow_growth = True\n",
    "session = InteractiveSession(config=config)"
   ]
  },
  {
   "cell_type": "markdown",
   "metadata": {},
   "source": [
    "## Data preparation (this step has been done for you)\n",
    "\n",
    "Images in the original dataset are usually in different sizes, so we need to resize and normalise them to fit the CNN model. Depending on the images you choose to use for training your model, some other preprocessing methods (cropping, zooming, etc.) may be required.\n",
    "\n",
    "## Split your dataset into training and validation\n",
    "Validation dataset would not be used to train your network, it is normally for evaluating your model performance and choosing the best set of hyperparameters. Choose the size of your training and validation set yourself."
   ]
  },
  {
   "cell_type": "code",
   "execution_count": null,
   "metadata": {},
   "outputs": [],
   "source": [
    "#uncomment if using linux/macos\n",
    "!rm -rf TrainSeg ValSeg\n",
    "!mkdir TrainSeg ValSeg TrainSeg/Yes ValSeg/Yes\n",
    "\n",
    "#uncomment if using windows\n",
    "#!rmdir TrainSeg ValSeg /s /q\n",
    "#!md TrainSeg ValSeg TrainSeg\\Yes ValSeg\\Yes\n",
    "\n",
    "\n",
    "img_path = 'Dataset/'\n",
    "train_list = []\n",
    "val_list = []\n",
    "CLASS = 'Yes'\n",
    "all_files = os.listdir(img_path + CLASS)\n",
    "files = [item for item in all_files if \"img\" in item]\n",
    "random.shuffle(files)\n",
    "img_num = len(files)\n",
    "for (n, file_name) in enumerate(files):\n",
    "    img = os.path.join(img_path,CLASS,file_name)\n",
    "    seg = os.path.join(img_path,CLASS,file_name.split('_')[0]+'_seg.npy')\n",
    "    # 80% of images will be used for training, change the number here \n",
    "    # to use different number of images for training your model.\n",
    "    if n < 0.8*img_num:\n",
    "        shutil.copy(img, os.path.join('TrainSeg/',CLASS,file_name))\n",
    "        train_list.append(os.path.join('TrainSeg/',CLASS,file_name))\n",
    "        shutil.copy(seg, os.path.join('TrainSeg/',CLASS,file_name.split('_')[0]+'_seg.npy'))\n",
    "    else:\n",
    "        shutil.copy(img, os.path.join('ValSeg/',CLASS,file_name))\n",
    "        val_list.append(os.path.join('ValSeg/',CLASS,file_name))\n",
    "        shutil.copy(seg, os.path.join('ValSeg/',CLASS,file_name.split('_')[0]+'_seg.npy'))"
   ]
  },
  {
   "cell_type": "code",
   "execution_count": null,
   "metadata": {},
   "outputs": [],
   "source": [
    "def plot_samples(x,n=10):\n",
    "    i = n\n",
    "    j = 2\n",
    "    plt.figure(figsize=(15,20))\n",
    "    k = 1\n",
    "    idx_nums = np.random.randint(len(x),size=n)\n",
    "    for idx in idx_nums:\n",
    "        plt.subplot(i,j,k)\n",
    "        while k%2 != 0:\n",
    "            plt.imshow(np.load(x[idx])[:,:,0], cmap='gray')\n",
    "            plt.xlabel(\"Input\")\n",
    "            k += 1\n",
    "        plt.subplot(i,j,k)\n",
    "        plt.imshow(np.load(x[idx].split('_')[0]+'_seg.npy')[:,:], cmap='gray')\n",
    "        plt.xlabel(\"Ground Truth\")\n",
    "        k += 1\n",
    "    plt.tight_layout()\n",
    "    plt.show()\n",
    "\n",
    "plot_samples(train_list, n=5)"
   ]
  },
  {
   "cell_type": "markdown",
   "metadata": {},
   "source": [
    "## Train-time data augmentation\n",
    "Generalizability is crucial to a deep learning model and it refers to the performance difference of a model when evaluated on the seen data (training data) versus the unseen data (testing data). Improving the generalizability of these models has always been a difficult challenge. \n",
    "\n",
    "**Data Augmentation** is an effective way of improving the generalizability, because the augmented data will represent a more comprehensive set of possible data samples and minimizing the distance between the training and validation/testing sets.\n",
    "\n",
    "There are many data augmentation methods you can choose in this projects including rotation, shifting, flipping, etc.\n",
    "\n",
    "You are encouraged to try different augmentation method to get the best classification accuracy.\n",
    "\n",
    "**Question**\n",
    "\n",
    "Applying data augmentation to medical images may sometimes make the images uninterpretable to human. For instance, a heart may not look like a heart after shearing the image. Would training the model with these uninterpretable images helpful to improving the model performance? Why do you think it is helpful/not helpful?\n",
    "\n",
    "## Get the data generator ready\n",
    "\n",
    "You may change the batch size of your training data here. A large batch size or even a batch size that equals to the entire dataset is more likely to get your model to the convergence to the global optima of the loss function, but this is at the cost of computational efficiency and sometimes large batch size would lead to a bad model generalisation. \n",
    "\n",
    "There is always a trade-off between large and small batch size. Choose a reasonable batch size here to get the best model performance.\n",
    "\n",
    "You can add your data augmentation methods here. Some simple example can be found at https://towardsdatascience.com/image-augmentation-using-python-numpy-opencv-and-skimage-ef027e9898da."
   ]
  },
  {
   "cell_type": "code",
   "execution_count": null,
   "metadata": {},
   "outputs": [],
   "source": [
    "class DataGenerator(tf.keras.utils.Sequence):\n",
    "    def __init__(self, list_IDs, batch_size=16, dim=(240,240), n_channels=3,\n",
    "                 n_classes=2, shuffle=True):\n",
    "        self.dim = dim\n",
    "        self.batch_size = batch_size\n",
    "        self.list_IDs = list_IDs\n",
    "        self.n_channels = n_channels\n",
    "        self.n_classes = n_classes\n",
    "        self.shuffle = shuffle\n",
    "        self.on_epoch_end()\n",
    "\n",
    "    def __len__(self):\n",
    "        return int(np.floor(len(self.list_IDs) / self.batch_size))\n",
    "\n",
    "    def __getitem__(self, index):\n",
    "        # Generate indexes of the batch\n",
    "        indexes = self.indexes[index*self.batch_size:(index+1)*self.batch_size]\n",
    "\n",
    "        # Find list of IDs\n",
    "        list_IDs_temp = [self.list_IDs[k] for k in indexes]\n",
    "\n",
    "        # Generate data\n",
    "        X, y = self.__data_generation(list_IDs_temp)\n",
    "\n",
    "        return X, y\n",
    "\n",
    "    def on_epoch_end(self):\n",
    "        self.indexes = np.arange(len(self.list_IDs))\n",
    "        if self.shuffle == True:\n",
    "            np.random.shuffle(self.indexes)\n",
    "\n",
    "    def __data_generation(self, list_IDs_temp):\n",
    "        # X : (n_samples, *dim, n_channels)\n",
    "        # Initialization\n",
    "        X = np.empty((self.batch_size, *self.dim, self.n_channels))\n",
    "        y = np.empty((self.batch_size, *self.dim))\n",
    "\n",
    "        # Generate data\n",
    "        for i, ID in enumerate(list_IDs_temp):\n",
    "            # Store sample\n",
    "            # Add data augmentation here\n",
    "            X[i,] = np.load(ID)\n",
    "\n",
    "            # Store segmentation map\n",
    "            y[i] = np.load(ID[:-8] +'_seg.npy')\n",
    "\n",
    "        return X, y"
   ]
  },
  {
   "cell_type": "code",
   "execution_count": null,
   "metadata": {},
   "outputs": [],
   "source": [
    "train_generator = DataGenerator(train_list)\n",
    "validation_generator = DataGenerator(val_list)\n",
    "IMG_SIZE = (240,240)\n",
    "RANDOM_SEED = 100"
   ]
  },
  {
   "cell_type": "markdown",
   "metadata": {},
   "source": [
    "## Define a metric for the performance of the model\n",
    "Dice score is used here to evaluate the performance of your model.\n",
    "More details about the Dice score and other metrics can be found at \n",
    "https://towardsdatascience.com/metrics-to-evaluate-your-semantic-segmentation-model-6bcb99639aa2"
   ]
  },
  {
   "cell_type": "code",
   "execution_count": null,
   "metadata": {},
   "outputs": [],
   "source": [
    "def dice_score(y_true, y_pred, smooth=1):\n",
    "    y_true_f = K.flatten(y_true)\n",
    "    y_pred_f = K.flatten(y_pred)\n",
    "    intersection = K.sum(y_true_f * y_pred_f)\n",
    "    return (2. * intersection + smooth) / (K.sum(y_true_f) + K.sum(y_pred_f) + smooth)"
   ]
  },
  {
   "cell_type": "markdown",
   "metadata": {},
   "source": [
    "## Build your own model here\n",
    "A vanilla U-Net (https://link.springer.com/chapter/10.1007/978-3-319-24574-4_28) structure is given here for the segmentation task. You are encouraged to modify this structure by changing the hyperparameters of this network. More information about the Keras layers including Conv2D, MaxPooling and Dropout can be found at https://keras.io/api/layers/."
   ]
  },
  {
   "cell_type": "code",
   "execution_count": null,
   "metadata": {},
   "outputs": [],
   "source": [
    "def unet(input_size = (240,240,3)):\n",
    "    inputs = Input(input_size)\n",
    "    conv1 = Conv2D(64, 3, activation = 'relu', padding = 'same')(inputs)\n",
    "    conv1 = Conv2D(64, 3, activation = 'relu', padding = 'same')(conv1)\n",
    "    pool1 = MaxPooling2D(pool_size=(2, 2))(conv1)\n",
    "    conv2 = Conv2D(128, 3, activation = 'relu', padding = 'same')(pool1)\n",
    "    conv2 = Conv2D(128, 3, activation = 'relu', padding = 'same')(conv2)\n",
    "    pool2 = MaxPooling2D(pool_size=(2, 2))(conv2)\n",
    "    conv3 = Conv2D(256, 3, activation = 'relu', padding = 'same')(pool2)\n",
    "    conv3 = Conv2D(256, 3, activation = 'relu', padding = 'same')(conv3)\n",
    "    pool3 = MaxPooling2D(pool_size=(2, 2))(conv3)\n",
    "    conv4 = Conv2D(512, 3, activation = 'relu', padding = 'same')(pool3)\n",
    "    conv4 = Conv2D(512, 3, activation = 'relu', padding = 'same')(conv4)\n",
    "    drop4 = Dropout(0.5)(conv4)\n",
    "    pool4 = MaxPooling2D(pool_size=(2, 2))(drop4)\n",
    "\n",
    "    conv5 = Conv2D(1024, 3, activation = 'relu', padding = 'same')(pool4)\n",
    "    conv5 = Conv2D(1024, 3, activation = 'relu', padding = 'same')(conv5)\n",
    "    drop5 = Dropout(0.5)(conv5)\n",
    "\n",
    "    up6 = Conv2D(512, 2, activation = 'relu', padding = 'same')(UpSampling2D(size = (2,2))(drop5))\n",
    "    merge6 = concatenate([drop4,up6], axis = 3)\n",
    "    conv6 = Conv2D(512, 3, activation = 'relu', padding = 'same')(merge6)\n",
    "    conv6 = Conv2D(512, 3, activation = 'relu', padding = 'same')(conv6)\n",
    "\n",
    "    up7 = Conv2D(256, 2, activation = 'relu', padding = 'same')(UpSampling2D(size = (2,2))(conv6))\n",
    "    merge7 = concatenate([conv3,up7], axis = 3)\n",
    "    conv7 = Conv2D(256, 3, activation = 'relu', padding = 'same')(merge7)\n",
    "    conv7 = Conv2D(256, 3, activation = 'relu', padding = 'same')(conv7)\n",
    "\n",
    "    up8 = Conv2D(128, 2, activation = 'relu', padding = 'same')(UpSampling2D(size = (2,2))(conv7))\n",
    "    merge8 = concatenate([conv2,up8], axis = 3)\n",
    "    conv8 = Conv2D(128, 3, activation = 'relu', padding = 'same')(merge8)\n",
    "    conv8 = Conv2D(128, 3, activation = 'relu', padding = 'same')(conv8)\n",
    "\n",
    "    up9 = Conv2D(64, 2, activation = 'relu', padding = 'same')(UpSampling2D(size = (2,2))(conv8))\n",
    "    merge9 = concatenate([conv1,up9], axis = 3)\n",
    "    conv9 = Conv2D(64, 3, activation = 'relu', padding = 'same')(merge9)\n",
    "    conv9 = Conv2D(64, 3, activation = 'relu', padding = 'same')(conv9)\n",
    "    conv9 = Conv2D(2, 3, activation = 'relu', padding = 'same')(conv9)\n",
    "    conv10 = Conv2D(1, 1, activation = 'sigmoid')(conv9)\n",
    "\n",
    "    model = Model(inputs = inputs, outputs = conv10)\n",
    "\n",
    "    model.compile(optimizer = Adam(lr = 1e-4), loss ='binary_crossentropy', metrics = [dice_score])\n",
    "\n",
    "    return model"
   ]
  },
  {
   "cell_type": "markdown",
   "metadata": {},
   "source": [
    "## Train your model here\n",
    "Change the epochs value for different number of epochs you intend to train your network for."
   ]
  },
  {
   "cell_type": "code",
   "execution_count": null,
   "metadata": {},
   "outputs": [],
   "source": [
    "model = unet()\n",
    "history = model.fit(\n",
    "    train_generator,\n",
    "    epochs=5,\n",
    "    validation_data=validation_generator,\n",
    ")"
   ]
  },
  {
   "cell_type": "markdown",
   "metadata": {},
   "source": [
    "## Save the model\n",
    "Save your model for testing later."
   ]
  },
  {
   "cell_type": "code",
   "execution_count": null,
   "metadata": {},
   "outputs": [],
   "source": [
    "model.save('trained_seg_model.h5')"
   ]
  },
  {
   "cell_type": "markdown",
   "metadata": {},
   "source": [
    "## Run the model on the validation set and plot the result\n",
    "For running on the test set, change the test_dir value to 'test/'"
   ]
  },
  {
   "cell_type": "code",
   "execution_count": null,
   "metadata": {},
   "outputs": [],
   "source": [
    "test_dir = 'ValSeg/'\n",
    "#load your model here\n",
    "dependencies = {\n",
    "    'dice_score': dice_score\n",
    "}\n",
    "model = load_model('trained_seg_model.h5', custom_objects=dependencies)\n",
    "test_list = []\n",
    "CLASS = 'Yes'\n",
    "all_files = os.listdir(test_dir + CLASS)\n",
    "files = [item for item in all_files if \"img\" in item]\n",
    "for file_name in files:\n",
    "    test_list.append(test_dir + CLASS + '/' + file_name)        \n",
    "test_generator = DataGenerator(test_list[:100], batch_size=1)\n",
    "\n",
    "predictions = []\n",
    "x_test = []\n",
    "y_test = []\n",
    "accuracy = []\n",
    "for i in range(test_generator.__len__()):\n",
    "    x, y = test_generator.__getitem__(i)\n",
    "    x_test.append(x)\n",
    "    y_test.append(y[0])\n",
    "    prediction = model.predict(x)\n",
    "    prediction[prediction>0.5] = 1\n",
    "    prediction[prediction<=0.5] = 0\n",
    "    predictions.append(prediction[0])\n",
    "    accuracy.append(dice_score(y[0], prediction[0].astype('float64')))\n",
    "print('Test Score = %.2f' % np.mean(accuracy))"
   ]
  },
  {
   "cell_type": "code",
   "execution_count": null,
   "metadata": {},
   "outputs": [],
   "source": [
    "def plot_result(x,y,pred,n=10):\n",
    "    i = n\n",
    "    j = 3\n",
    "    plt.figure(figsize=(15,20))\n",
    "    k = 1\n",
    "    idx_nums = np.random.randint(len(x),size=n)\n",
    "    for idx in idx_nums:\n",
    "        while k%3 != 0: \n",
    "            plt.subplot(i,j,k)\n",
    "            if k%3 == 1:\n",
    "                plt.imshow(x[idx][0,:,:,0], cmap='gray')\n",
    "                plt.xlabel(\"Input\")\n",
    "            if k%3 == 2:\n",
    "                plt.imshow(y[idx][:,:], cmap='gray')\n",
    "                plt.xlabel(\"Ground Truth\")\n",
    "            k += 1\n",
    "        plt.subplot(i,j,k)\n",
    "        plt.imshow(pred[idx][:,:,0], cmap='gray')\n",
    "        plt.xlabel(\"Prediction\")\n",
    "        k += 1\n",
    "    plt.tight_layout()\n",
    "    plt.show()\n",
    "    \n",
    "plot_result(x_test, y_test, predictions, n=5)"
   ]
  },
  {
   "cell_type": "code",
   "execution_count": null,
   "metadata": {},
   "outputs": [],
   "source": []
  }
 ],
 "metadata": {
  "kernelspec": {
   "display_name": "keras",
   "language": "python",
   "name": "keras"
  },
  "language_info": {
   "codemirror_mode": {
    "name": "ipython",
    "version": 3
   },
   "file_extension": ".py",
   "mimetype": "text/x-python",
   "name": "python",
   "nbconvert_exporter": "python",
   "pygments_lexer": "ipython3",
   "version": "3.7.7"
  }
 },
 "nbformat": 4,
 "nbformat_minor": 2
}
